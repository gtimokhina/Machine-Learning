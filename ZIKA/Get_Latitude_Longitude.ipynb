{
 "cells": [
  {
   "cell_type": "code",
   "execution_count": 1,
   "metadata": {},
   "outputs": [],
   "source": [
    "import pandas as pd\n",
    "import numpy as np\n",
    "import matplotlib.pyplot as plt\n",
    "import seaborn as sns\n",
    "import time\n",
    "import urllib.request as ur\n",
    "import json\n",
    "import datetime\n",
    "%matplotlib inline"
   ]
  },
  {
   "cell_type": "code",
   "execution_count": 2,
   "metadata": {},
   "outputs": [],
   "source": [
    "df = pd.read_csv('Data/zika_cleaned_data.csv', low_memory=False)"
   ]
  },
  {
   "cell_type": "code",
   "execution_count": 3,
   "metadata": {},
   "outputs": [
    {
     "data": {
      "text/html": [
       "<div>\n",
       "<style scoped>\n",
       "    .dataframe tbody tr th:only-of-type {\n",
       "        vertical-align: middle;\n",
       "    }\n",
       "\n",
       "    .dataframe tbody tr th {\n",
       "        vertical-align: top;\n",
       "    }\n",
       "\n",
       "    .dataframe thead th {\n",
       "        text-align: right;\n",
       "    }\n",
       "</style>\n",
       "<table border=\"1\" class=\"dataframe\">\n",
       "  <thead>\n",
       "    <tr style=\"text-align: right;\">\n",
       "      <th></th>\n",
       "      <th>location</th>\n",
       "      <th>report_date</th>\n",
       "      <th>location_type</th>\n",
       "      <th>country</th>\n",
       "      <th>value</th>\n",
       "      <th>province</th>\n",
       "      <th>county</th>\n",
       "      <th>city</th>\n",
       "    </tr>\n",
       "  </thead>\n",
       "  <tbody>\n",
       "    <tr>\n",
       "      <th>0</th>\n",
       "      <td>Argentina-Buenos_Aires</td>\n",
       "      <td>2016-03-19</td>\n",
       "      <td>province</td>\n",
       "      <td>Argentina</td>\n",
       "      <td>130</td>\n",
       "      <td>Buenos Aires</td>\n",
       "      <td>None</td>\n",
       "      <td>None</td>\n",
       "    </tr>\n",
       "    <tr>\n",
       "      <th>1</th>\n",
       "      <td>Argentina-Buenos_Aires</td>\n",
       "      <td>2016-03-26</td>\n",
       "      <td>province</td>\n",
       "      <td>Argentina</td>\n",
       "      <td>148</td>\n",
       "      <td>Buenos Aires</td>\n",
       "      <td>None</td>\n",
       "      <td>None</td>\n",
       "    </tr>\n",
       "    <tr>\n",
       "      <th>2</th>\n",
       "      <td>Argentina-Buenos_Aires</td>\n",
       "      <td>2016-04-02</td>\n",
       "      <td>province</td>\n",
       "      <td>Argentina</td>\n",
       "      <td>190</td>\n",
       "      <td>Buenos Aires</td>\n",
       "      <td>None</td>\n",
       "      <td>None</td>\n",
       "    </tr>\n",
       "    <tr>\n",
       "      <th>3</th>\n",
       "      <td>Argentina-Buenos_Aires</td>\n",
       "      <td>2016-04-09</td>\n",
       "      <td>province</td>\n",
       "      <td>Argentina</td>\n",
       "      <td>199</td>\n",
       "      <td>Buenos Aires</td>\n",
       "      <td>None</td>\n",
       "      <td>None</td>\n",
       "    </tr>\n",
       "    <tr>\n",
       "      <th>4</th>\n",
       "      <td>Argentina-Buenos_Aires</td>\n",
       "      <td>2016-04-16</td>\n",
       "      <td>province</td>\n",
       "      <td>Argentina</td>\n",
       "      <td>207</td>\n",
       "      <td>Buenos Aires</td>\n",
       "      <td>None</td>\n",
       "      <td>None</td>\n",
       "    </tr>\n",
       "  </tbody>\n",
       "</table>\n",
       "</div>"
      ],
      "text/plain": [
       "                 location report_date location_type    country  value  \\\n",
       "0  Argentina-Buenos_Aires  2016-03-19      province  Argentina    130   \n",
       "1  Argentina-Buenos_Aires  2016-03-26      province  Argentina    148   \n",
       "2  Argentina-Buenos_Aires  2016-04-02      province  Argentina    190   \n",
       "3  Argentina-Buenos_Aires  2016-04-09      province  Argentina    199   \n",
       "4  Argentina-Buenos_Aires  2016-04-16      province  Argentina    207   \n",
       "\n",
       "       province county  city  \n",
       "0  Buenos Aires   None  None  \n",
       "1  Buenos Aires   None  None  \n",
       "2  Buenos Aires   None  None  \n",
       "3  Buenos Aires   None  None  \n",
       "4  Buenos Aires   None  None  "
      ]
     },
     "execution_count": 3,
     "metadata": {},
     "output_type": "execute_result"
    }
   ],
   "source": [
    "df.head()"
   ]
  },
  {
   "cell_type": "code",
   "execution_count": 4,
   "metadata": {},
   "outputs": [],
   "source": [
    "#pip install geopy\n",
    "from geopy.geocoders import Nominatim\n",
    "geolocator = Nominatim(user_agent=\"gtimokhina\")"
   ]
  },
  {
   "cell_type": "code",
   "execution_count": 5,
   "metadata": {},
   "outputs": [],
   "source": [
    "# get lat/long based on location\n",
    "def get_latitude_longitude(r):\n",
    "    addr = ''\n",
    "    if r.city != 'None':\n",
    "        addr += r.city + ', ' \n",
    "    if r.county != 'None':\n",
    "        addr += r.county + ',' \n",
    "    addr +=  r.province + ',' + r.country    \n",
    "    location = geolocator.geocode(addr)\n",
    "    time.sleep(1)\n",
    "    return str(location.latitude) + ' ' + str(location.longitude)"
   ]
  },
  {
   "cell_type": "code",
   "execution_count": 6,
   "metadata": {},
   "outputs": [
    {
     "name": "stdout",
     "output_type": "stream",
     "text": [
      "Buenos Aires, Ciudad Autónoma de Buenos Aires, Argentina\n",
      "(-34.6075682, -58.4370894)\n",
      "-34.6075682 -58.4370894\n"
     ]
    }
   ],
   "source": [
    "# test api for some data\n",
    "location = geolocator.geocode(\"Buenos Aires, Argentina\")\n",
    "print(location.address)\n",
    "print((location.latitude, location.longitude))\n",
    "print(get_latitude_longitude(df.loc[0]))"
   ]
  },
  {
   "cell_type": "code",
   "execution_count": 7,
   "metadata": {},
   "outputs": [
    {
     "name": "stdout",
     "output_type": "stream",
     "text": [
      "<class 'pandas.core.frame.DataFrame'>\n",
      "Int64Index: 336 entries, 0 to 335\n",
      "Data columns (total 8 columns):\n",
      "location         336 non-null object\n",
      "report_date      336 non-null object\n",
      "location_type    336 non-null object\n",
      "country          336 non-null object\n",
      "value            336 non-null int64\n",
      "province         336 non-null object\n",
      "county           336 non-null object\n",
      "city             336 non-null object\n",
      "dtypes: int64(1), object(7)\n",
      "memory usage: 23.6+ KB\n"
     ]
    }
   ],
   "source": [
    "# calculate lat/long for Argentina first\n",
    "df_argentina = df[df['country'] == 'Argentina']\n",
    "df_argentina.info()"
   ]
  },
  {
   "cell_type": "code",
   "execution_count": 8,
   "metadata": {},
   "outputs": [
    {
     "name": "stderr",
     "output_type": "stream",
     "text": [
      "/Users/Gulya/anaconda3/lib/python3.7/site-packages/ipykernel_launcher.py:2: SettingWithCopyWarning: \n",
      "A value is trying to be set on a copy of a slice from a DataFrame.\n",
      "Try using .loc[row_indexer,col_indexer] = value instead\n",
      "\n",
      "See the caveats in the documentation: http://pandas.pydata.org/pandas-docs/stable/indexing.html#indexing-view-versus-copy\n",
      "  \n"
     ]
    }
   ],
   "source": [
    "# get lat/long\n",
    "df_argentina['latitude_longitude'] = df_argentina.apply(lambda r: get_latitude_longitude(r), axis=1)"
   ]
  },
  {
   "cell_type": "code",
   "execution_count": 9,
   "metadata": {},
   "outputs": [
    {
     "data": {
      "text/html": [
       "<div>\n",
       "<style scoped>\n",
       "    .dataframe tbody tr th:only-of-type {\n",
       "        vertical-align: middle;\n",
       "    }\n",
       "\n",
       "    .dataframe tbody tr th {\n",
       "        vertical-align: top;\n",
       "    }\n",
       "\n",
       "    .dataframe thead th {\n",
       "        text-align: right;\n",
       "    }\n",
       "</style>\n",
       "<table border=\"1\" class=\"dataframe\">\n",
       "  <thead>\n",
       "    <tr style=\"text-align: right;\">\n",
       "      <th></th>\n",
       "      <th>location</th>\n",
       "      <th>report_date</th>\n",
       "      <th>location_type</th>\n",
       "      <th>country</th>\n",
       "      <th>value</th>\n",
       "      <th>province</th>\n",
       "      <th>county</th>\n",
       "      <th>city</th>\n",
       "      <th>latitude_longitude</th>\n",
       "    </tr>\n",
       "  </thead>\n",
       "  <tbody>\n",
       "    <tr>\n",
       "      <th>0</th>\n",
       "      <td>Argentina-Buenos_Aires</td>\n",
       "      <td>2016-03-19</td>\n",
       "      <td>province</td>\n",
       "      <td>Argentina</td>\n",
       "      <td>130</td>\n",
       "      <td>Buenos Aires</td>\n",
       "      <td>None</td>\n",
       "      <td>None</td>\n",
       "      <td>-34.6075682 -58.4370894</td>\n",
       "    </tr>\n",
       "    <tr>\n",
       "      <th>1</th>\n",
       "      <td>Argentina-Buenos_Aires</td>\n",
       "      <td>2016-03-26</td>\n",
       "      <td>province</td>\n",
       "      <td>Argentina</td>\n",
       "      <td>148</td>\n",
       "      <td>Buenos Aires</td>\n",
       "      <td>None</td>\n",
       "      <td>None</td>\n",
       "      <td>-34.6075682 -58.4370894</td>\n",
       "    </tr>\n",
       "    <tr>\n",
       "      <th>2</th>\n",
       "      <td>Argentina-Buenos_Aires</td>\n",
       "      <td>2016-04-02</td>\n",
       "      <td>province</td>\n",
       "      <td>Argentina</td>\n",
       "      <td>190</td>\n",
       "      <td>Buenos Aires</td>\n",
       "      <td>None</td>\n",
       "      <td>None</td>\n",
       "      <td>-34.6075682 -58.4370894</td>\n",
       "    </tr>\n",
       "    <tr>\n",
       "      <th>3</th>\n",
       "      <td>Argentina-Buenos_Aires</td>\n",
       "      <td>2016-04-09</td>\n",
       "      <td>province</td>\n",
       "      <td>Argentina</td>\n",
       "      <td>199</td>\n",
       "      <td>Buenos Aires</td>\n",
       "      <td>None</td>\n",
       "      <td>None</td>\n",
       "      <td>-34.6075682 -58.4370894</td>\n",
       "    </tr>\n",
       "    <tr>\n",
       "      <th>4</th>\n",
       "      <td>Argentina-Buenos_Aires</td>\n",
       "      <td>2016-04-16</td>\n",
       "      <td>province</td>\n",
       "      <td>Argentina</td>\n",
       "      <td>207</td>\n",
       "      <td>Buenos Aires</td>\n",
       "      <td>None</td>\n",
       "      <td>None</td>\n",
       "      <td>-34.6075682 -58.4370894</td>\n",
       "    </tr>\n",
       "  </tbody>\n",
       "</table>\n",
       "</div>"
      ],
      "text/plain": [
       "                 location report_date location_type    country  value  \\\n",
       "0  Argentina-Buenos_Aires  2016-03-19      province  Argentina    130   \n",
       "1  Argentina-Buenos_Aires  2016-03-26      province  Argentina    148   \n",
       "2  Argentina-Buenos_Aires  2016-04-02      province  Argentina    190   \n",
       "3  Argentina-Buenos_Aires  2016-04-09      province  Argentina    199   \n",
       "4  Argentina-Buenos_Aires  2016-04-16      province  Argentina    207   \n",
       "\n",
       "       province county  city       latitude_longitude  \n",
       "0  Buenos Aires   None  None  -34.6075682 -58.4370894  \n",
       "1  Buenos Aires   None  None  -34.6075682 -58.4370894  \n",
       "2  Buenos Aires   None  None  -34.6075682 -58.4370894  \n",
       "3  Buenos Aires   None  None  -34.6075682 -58.4370894  \n",
       "4  Buenos Aires   None  None  -34.6075682 -58.4370894  "
      ]
     },
     "execution_count": 9,
     "metadata": {},
     "output_type": "execute_result"
    }
   ],
   "source": [
    "df_argentina.head()"
   ]
  },
  {
   "cell_type": "code",
   "execution_count": 10,
   "metadata": {},
   "outputs": [
    {
     "name": "stderr",
     "output_type": "stream",
     "text": [
      "/Users/Gulya/anaconda3/lib/python3.7/site-packages/pandas/core/frame.py:3391: SettingWithCopyWarning: \n",
      "A value is trying to be set on a copy of a slice from a DataFrame.\n",
      "Try using .loc[row_indexer,col_indexer] = value instead\n",
      "\n",
      "See the caveats in the documentation: http://pandas.pydata.org/pandas-docs/stable/indexing.html#indexing-view-versus-copy\n",
      "  self[k1] = value[k2]\n"
     ]
    }
   ],
   "source": [
    "#create separate columns for latitude, longitude\n",
    "df_argentina[['latitude','longitude']] = df_argentina['latitude_longitude'].str.split(' ', expand=True)"
   ]
  },
  {
   "cell_type": "code",
   "execution_count": 11,
   "metadata": {},
   "outputs": [
    {
     "name": "stderr",
     "output_type": "stream",
     "text": [
      "/Users/Gulya/anaconda3/lib/python3.7/site-packages/ipykernel_launcher.py:2: SettingWithCopyWarning: \n",
      "A value is trying to be set on a copy of a slice from a DataFrame.\n",
      "Try using .loc[row_indexer,col_indexer] = value instead\n",
      "\n",
      "See the caveats in the documentation: http://pandas.pydata.org/pandas-docs/stable/indexing.html#indexing-view-versus-copy\n",
      "  \n",
      "/Users/Gulya/anaconda3/lib/python3.7/site-packages/ipykernel_launcher.py:3: SettingWithCopyWarning: \n",
      "A value is trying to be set on a copy of a slice from a DataFrame.\n",
      "Try using .loc[row_indexer,col_indexer] = value instead\n",
      "\n",
      "See the caveats in the documentation: http://pandas.pydata.org/pandas-docs/stable/indexing.html#indexing-view-versus-copy\n",
      "  This is separate from the ipykernel package so we can avoid doing imports until\n"
     ]
    }
   ],
   "source": [
    "# make lat/long columns float type\n",
    "df_argentina['latitude'] = df_argentina['latitude'].astype(float)\n",
    "df_argentina['longitude'] = df_argentina['longitude'].astype(float)"
   ]
  },
  {
   "cell_type": "code",
   "execution_count": 12,
   "metadata": {},
   "outputs": [
    {
     "data": {
      "text/html": [
       "<div>\n",
       "<style scoped>\n",
       "    .dataframe tbody tr th:only-of-type {\n",
       "        vertical-align: middle;\n",
       "    }\n",
       "\n",
       "    .dataframe tbody tr th {\n",
       "        vertical-align: top;\n",
       "    }\n",
       "\n",
       "    .dataframe thead th {\n",
       "        text-align: right;\n",
       "    }\n",
       "</style>\n",
       "<table border=\"1\" class=\"dataframe\">\n",
       "  <thead>\n",
       "    <tr style=\"text-align: right;\">\n",
       "      <th></th>\n",
       "      <th>location</th>\n",
       "      <th>report_date</th>\n",
       "      <th>location_type</th>\n",
       "      <th>country</th>\n",
       "      <th>value</th>\n",
       "      <th>province</th>\n",
       "      <th>county</th>\n",
       "      <th>city</th>\n",
       "      <th>latitude</th>\n",
       "      <th>longitude</th>\n",
       "    </tr>\n",
       "  </thead>\n",
       "  <tbody>\n",
       "    <tr>\n",
       "      <th>0</th>\n",
       "      <td>Argentina-Buenos_Aires</td>\n",
       "      <td>2016-03-19</td>\n",
       "      <td>province</td>\n",
       "      <td>Argentina</td>\n",
       "      <td>130</td>\n",
       "      <td>Buenos Aires</td>\n",
       "      <td>None</td>\n",
       "      <td>None</td>\n",
       "      <td>-34.607568</td>\n",
       "      <td>-58.437089</td>\n",
       "    </tr>\n",
       "    <tr>\n",
       "      <th>1</th>\n",
       "      <td>Argentina-Buenos_Aires</td>\n",
       "      <td>2016-03-26</td>\n",
       "      <td>province</td>\n",
       "      <td>Argentina</td>\n",
       "      <td>148</td>\n",
       "      <td>Buenos Aires</td>\n",
       "      <td>None</td>\n",
       "      <td>None</td>\n",
       "      <td>-34.607568</td>\n",
       "      <td>-58.437089</td>\n",
       "    </tr>\n",
       "    <tr>\n",
       "      <th>2</th>\n",
       "      <td>Argentina-Buenos_Aires</td>\n",
       "      <td>2016-04-02</td>\n",
       "      <td>province</td>\n",
       "      <td>Argentina</td>\n",
       "      <td>190</td>\n",
       "      <td>Buenos Aires</td>\n",
       "      <td>None</td>\n",
       "      <td>None</td>\n",
       "      <td>-34.607568</td>\n",
       "      <td>-58.437089</td>\n",
       "    </tr>\n",
       "    <tr>\n",
       "      <th>3</th>\n",
       "      <td>Argentina-Buenos_Aires</td>\n",
       "      <td>2016-04-09</td>\n",
       "      <td>province</td>\n",
       "      <td>Argentina</td>\n",
       "      <td>199</td>\n",
       "      <td>Buenos Aires</td>\n",
       "      <td>None</td>\n",
       "      <td>None</td>\n",
       "      <td>-34.607568</td>\n",
       "      <td>-58.437089</td>\n",
       "    </tr>\n",
       "    <tr>\n",
       "      <th>4</th>\n",
       "      <td>Argentina-Buenos_Aires</td>\n",
       "      <td>2016-04-16</td>\n",
       "      <td>province</td>\n",
       "      <td>Argentina</td>\n",
       "      <td>207</td>\n",
       "      <td>Buenos Aires</td>\n",
       "      <td>None</td>\n",
       "      <td>None</td>\n",
       "      <td>-34.607568</td>\n",
       "      <td>-58.437089</td>\n",
       "    </tr>\n",
       "  </tbody>\n",
       "</table>\n",
       "</div>"
      ],
      "text/plain": [
       "                 location report_date location_type    country  value  \\\n",
       "0  Argentina-Buenos_Aires  2016-03-19      province  Argentina    130   \n",
       "1  Argentina-Buenos_Aires  2016-03-26      province  Argentina    148   \n",
       "2  Argentina-Buenos_Aires  2016-04-02      province  Argentina    190   \n",
       "3  Argentina-Buenos_Aires  2016-04-09      province  Argentina    199   \n",
       "4  Argentina-Buenos_Aires  2016-04-16      province  Argentina    207   \n",
       "\n",
       "       province county  city   latitude  longitude  \n",
       "0  Buenos Aires   None  None -34.607568 -58.437089  \n",
       "1  Buenos Aires   None  None -34.607568 -58.437089  \n",
       "2  Buenos Aires   None  None -34.607568 -58.437089  \n",
       "3  Buenos Aires   None  None -34.607568 -58.437089  \n",
       "4  Buenos Aires   None  None -34.607568 -58.437089  "
      ]
     },
     "execution_count": 12,
     "metadata": {},
     "output_type": "execute_result"
    }
   ],
   "source": [
    "df_argentina = df_argentina.drop(['latitude_longitude'],axis=1)  \n",
    "df_argentina.head()"
   ]
  },
  {
   "cell_type": "code",
   "execution_count": 13,
   "metadata": {},
   "outputs": [],
   "source": [
    "# save csv file for future needs\n",
    "df_argentina.to_csv('Argentina.csv', encoding='utf-8', index=False)"
   ]
  },
  {
   "cell_type": "code",
   "execution_count": null,
   "metadata": {},
   "outputs": [],
   "source": []
  }
 ],
 "metadata": {
  "kernelspec": {
   "display_name": "Python 3",
   "language": "python",
   "name": "python3"
  },
  "language_info": {
   "codemirror_mode": {
    "name": "ipython",
    "version": 3
   },
   "file_extension": ".py",
   "mimetype": "text/x-python",
   "name": "python",
   "nbconvert_exporter": "python",
   "pygments_lexer": "ipython3",
   "version": "3.7.3"
  }
 },
 "nbformat": 4,
 "nbformat_minor": 2
}
