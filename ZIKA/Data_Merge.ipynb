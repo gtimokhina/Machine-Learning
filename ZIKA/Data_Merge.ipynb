{
 "cells": [
  {
   "cell_type": "code",
   "execution_count": 1,
   "metadata": {},
   "outputs": [],
   "source": [
    "import pandas as pd\n",
    "import numpy as np\n",
    "import matplotlib.pyplot as plt\n",
    "import seaborn as sns\n",
    "import time\n",
    "import urllib.request as ur\n",
    "import json\n",
    "import datetime\n",
    "%matplotlib inline"
   ]
  },
  {
   "cell_type": "code",
   "execution_count": 2,
   "metadata": {},
   "outputs": [
    {
     "name": "stdout",
     "output_type": "stream",
     "text": [
      "<class 'pandas.core.frame.DataFrame'>\n",
      "RangeIndex: 1673 entries, 0 to 1672\n",
      "Data columns (total 3 columns):\n",
      "location          1673 non-null object\n",
      "date              1673 non-null object\n",
      "zika_confirmed    1673 non-null int64\n",
      "dtypes: int64(1), object(2)\n",
      "memory usage: 39.3+ KB\n"
     ]
    }
   ],
   "source": [
    "# cases data per location\n",
    "df_cases = pd.read_csv('Data/zika_clusters.csv', low_memory=False)\n",
    "df_cases.info()"
   ]
  },
  {
   "cell_type": "code",
   "execution_count": 3,
   "metadata": {},
   "outputs": [],
   "source": [
    "# population data\n",
    "df_population = pd.read_csv('Data/population_density.csv', low_memory=False)"
   ]
  },
  {
   "cell_type": "code",
   "execution_count": 4,
   "metadata": {},
   "outputs": [
    {
     "name": "stdout",
     "output_type": "stream",
     "text": [
      "<class 'pandas.core.frame.DataFrame'>\n",
      "RangeIndex: 1714 entries, 0 to 1713\n",
      "Data columns (total 2 columns):\n",
      "location          1714 non-null object\n",
      "density_per_km    1714 non-null float64\n",
      "dtypes: float64(1), object(1)\n",
      "memory usage: 26.9+ KB\n"
     ]
    }
   ],
   "source": [
    "df_population.info()"
   ]
  },
  {
   "cell_type": "code",
   "execution_count": 5,
   "metadata": {},
   "outputs": [
    {
     "name": "stdout",
     "output_type": "stream",
     "text": [
      "<class 'pandas.core.frame.DataFrame'>\n",
      "Int64Index: 1678 entries, 0 to 1677\n",
      "Data columns (total 4 columns):\n",
      "location          1678 non-null object\n",
      "date              1678 non-null object\n",
      "zika_confirmed    1678 non-null int64\n",
      "density_per_km    1614 non-null float64\n",
      "dtypes: float64(1), int64(1), object(2)\n",
      "memory usage: 65.5+ KB\n"
     ]
    }
   ],
   "source": [
    "df = pd.merge(df_cases, df_population, on='location', how='left')\n",
    "df.info()"
   ]
  },
  {
   "cell_type": "code",
   "execution_count": 6,
   "metadata": {},
   "outputs": [
    {
     "data": {
      "text/html": [
       "<div>\n",
       "<style scoped>\n",
       "    .dataframe tbody tr th:only-of-type {\n",
       "        vertical-align: middle;\n",
       "    }\n",
       "\n",
       "    .dataframe tbody tr th {\n",
       "        vertical-align: top;\n",
       "    }\n",
       "\n",
       "    .dataframe thead th {\n",
       "        text-align: right;\n",
       "    }\n",
       "</style>\n",
       "<table border=\"1\" class=\"dataframe\">\n",
       "  <thead>\n",
       "    <tr style=\"text-align: right;\">\n",
       "      <th></th>\n",
       "      <th>location</th>\n",
       "      <th>location_type</th>\n",
       "      <th>country</th>\n",
       "      <th>province</th>\n",
       "      <th>county</th>\n",
       "      <th>city</th>\n",
       "      <th>latitude</th>\n",
       "      <th>longitude</th>\n",
       "    </tr>\n",
       "  </thead>\n",
       "  <tbody>\n",
       "    <tr>\n",
       "      <th>0</th>\n",
       "      <td>Argentina-Buenos_Aires</td>\n",
       "      <td>province</td>\n",
       "      <td>Argentina</td>\n",
       "      <td>Buenos Aires</td>\n",
       "      <td>NaN</td>\n",
       "      <td>NaN</td>\n",
       "      <td>-34.603684</td>\n",
       "      <td>-58.381559</td>\n",
       "    </tr>\n",
       "    <tr>\n",
       "      <th>1</th>\n",
       "      <td>Argentina-CABA</td>\n",
       "      <td>province</td>\n",
       "      <td>Argentina</td>\n",
       "      <td>Ciudad de Buenos Aires</td>\n",
       "      <td>NaN</td>\n",
       "      <td>NaN</td>\n",
       "      <td>-34.603684</td>\n",
       "      <td>-58.381559</td>\n",
       "    </tr>\n",
       "    <tr>\n",
       "      <th>2</th>\n",
       "      <td>Argentina-Cordoba</td>\n",
       "      <td>province</td>\n",
       "      <td>Argentina</td>\n",
       "      <td>Cordoba</td>\n",
       "      <td>NaN</td>\n",
       "      <td>NaN</td>\n",
       "      <td>-31.420083</td>\n",
       "      <td>-64.188776</td>\n",
       "    </tr>\n",
       "    <tr>\n",
       "      <th>3</th>\n",
       "      <td>Argentina-Entre_Rios</td>\n",
       "      <td>province</td>\n",
       "      <td>Argentina</td>\n",
       "      <td>Entre Rios</td>\n",
       "      <td>NaN</td>\n",
       "      <td>NaN</td>\n",
       "      <td>-31.774665</td>\n",
       "      <td>-60.495646</td>\n",
       "    </tr>\n",
       "    <tr>\n",
       "      <th>4</th>\n",
       "      <td>Argentina-Santa_Fe</td>\n",
       "      <td>province</td>\n",
       "      <td>Argentina</td>\n",
       "      <td>Santa Fe</td>\n",
       "      <td>NaN</td>\n",
       "      <td>NaN</td>\n",
       "      <td>-31.610658</td>\n",
       "      <td>-60.697294</td>\n",
       "    </tr>\n",
       "  </tbody>\n",
       "</table>\n",
       "</div>"
      ],
      "text/plain": [
       "                 location location_type    country                province  \\\n",
       "0  Argentina-Buenos_Aires      province  Argentina            Buenos Aires   \n",
       "1          Argentina-CABA      province  Argentina  Ciudad de Buenos Aires   \n",
       "2       Argentina-Cordoba      province  Argentina                 Cordoba   \n",
       "3    Argentina-Entre_Rios      province  Argentina              Entre Rios   \n",
       "4      Argentina-Santa_Fe      province  Argentina                Santa Fe   \n",
       "\n",
       "  county city   latitude  longitude  \n",
       "0    NaN  NaN -34.603684 -58.381559  \n",
       "1    NaN  NaN -34.603684 -58.381559  \n",
       "2    NaN  NaN -31.420083 -64.188776  \n",
       "3    NaN  NaN -31.774665 -60.495646  \n",
       "4    NaN  NaN -31.610658 -60.697294  "
      ]
     },
     "execution_count": 6,
     "metadata": {},
     "output_type": "execute_result"
    }
   ],
   "source": [
    "# latutude and longitude data\n",
    "df_lat_long = pd.read_csv('Data/latitude_longitude.csv', low_memory=False)\n",
    "df_lat_long.head()"
   ]
  },
  {
   "cell_type": "code",
   "execution_count": 7,
   "metadata": {},
   "outputs": [],
   "source": [
    "# merge latitude and longitude data\n",
    "df = pd.merge(df, df_lat_long, on='location', how='left')"
   ]
  },
  {
   "cell_type": "code",
   "execution_count": 8,
   "metadata": {},
   "outputs": [
    {
     "name": "stdout",
     "output_type": "stream",
     "text": [
      "<class 'pandas.core.frame.DataFrame'>\n",
      "Int64Index: 1688 entries, 0 to 1687\n",
      "Data columns (total 11 columns):\n",
      "location          1688 non-null object\n",
      "date              1688 non-null object\n",
      "zika_confirmed    1688 non-null int64\n",
      "density_per_km    1624 non-null float64\n",
      "location_type     1624 non-null object\n",
      "country           1624 non-null object\n",
      "province          1576 non-null object\n",
      "county            1353 non-null object\n",
      "city              1392 non-null object\n",
      "latitude          1624 non-null float64\n",
      "longitude         1624 non-null float64\n",
      "dtypes: float64(3), int64(1), object(7)\n",
      "memory usage: 158.2+ KB\n"
     ]
    }
   ],
   "source": [
    "df.info()"
   ]
  },
  {
   "cell_type": "code",
   "execution_count": 9,
   "metadata": {},
   "outputs": [
    {
     "data": {
      "text/html": [
       "<div>\n",
       "<style scoped>\n",
       "    .dataframe tbody tr th:only-of-type {\n",
       "        vertical-align: middle;\n",
       "    }\n",
       "\n",
       "    .dataframe tbody tr th {\n",
       "        vertical-align: top;\n",
       "    }\n",
       "\n",
       "    .dataframe thead th {\n",
       "        text-align: right;\n",
       "    }\n",
       "</style>\n",
       "<table border=\"1\" class=\"dataframe\">\n",
       "  <thead>\n",
       "    <tr style=\"text-align: right;\">\n",
       "      <th></th>\n",
       "      <th>country</th>\n",
       "      <th>2015</th>\n",
       "      <th>2016</th>\n",
       "      <th>2017</th>\n",
       "    </tr>\n",
       "  </thead>\n",
       "  <tbody>\n",
       "    <tr>\n",
       "      <th>0</th>\n",
       "      <td>Argentina</td>\n",
       "      <td>642.5</td>\n",
       "      <td>554.1</td>\n",
       "      <td>637.7</td>\n",
       "    </tr>\n",
       "    <tr>\n",
       "      <th>1</th>\n",
       "      <td>Brazil</td>\n",
       "      <td>1799.7</td>\n",
       "      <td>1793.1</td>\n",
       "      <td>2055.0</td>\n",
       "    </tr>\n",
       "    <tr>\n",
       "      <th>2</th>\n",
       "      <td>Colombia</td>\n",
       "      <td>291.5</td>\n",
       "      <td>280.0</td>\n",
       "      <td>309.2</td>\n",
       "    </tr>\n",
       "    <tr>\n",
       "      <th>3</th>\n",
       "      <td>Dominican Republic</td>\n",
       "      <td>68.2</td>\n",
       "      <td>71.7</td>\n",
       "      <td>75.0</td>\n",
       "    </tr>\n",
       "    <tr>\n",
       "      <th>4</th>\n",
       "      <td>Ecuador</td>\n",
       "      <td>99.3</td>\n",
       "      <td>98.6</td>\n",
       "      <td>102.3</td>\n",
       "    </tr>\n",
       "    <tr>\n",
       "      <th>5</th>\n",
       "      <td>El Salvador</td>\n",
       "      <td>26.1</td>\n",
       "      <td>26.8</td>\n",
       "      <td>28.0</td>\n",
       "    </tr>\n",
       "    <tr>\n",
       "      <th>6</th>\n",
       "      <td>Guatemala</td>\n",
       "      <td>63.8</td>\n",
       "      <td>68.8</td>\n",
       "      <td>75.7</td>\n",
       "    </tr>\n",
       "    <tr>\n",
       "      <th>7</th>\n",
       "      <td>Haiti</td>\n",
       "      <td>8.7</td>\n",
       "      <td>8.2</td>\n",
       "      <td>8.6</td>\n",
       "    </tr>\n",
       "    <tr>\n",
       "      <th>8</th>\n",
       "      <td>Mexico</td>\n",
       "      <td>1169.6</td>\n",
       "      <td>1076.9</td>\n",
       "      <td>1149.2</td>\n",
       "    </tr>\n",
       "    <tr>\n",
       "      <th>9</th>\n",
       "      <td>Nicaragua</td>\n",
       "      <td>12.7</td>\n",
       "      <td>13.2</td>\n",
       "      <td>13.7</td>\n",
       "    </tr>\n",
       "    <tr>\n",
       "      <th>10</th>\n",
       "      <td>Panama</td>\n",
       "      <td>54.3</td>\n",
       "      <td>57.8</td>\n",
       "      <td>61.8</td>\n",
       "    </tr>\n",
       "    <tr>\n",
       "      <th>11</th>\n",
       "      <td>United States</td>\n",
       "      <td>18120.7</td>\n",
       "      <td>18624.5</td>\n",
       "      <td>19390.6</td>\n",
       "    </tr>\n",
       "  </tbody>\n",
       "</table>\n",
       "</div>"
      ],
      "text/plain": [
       "               country     2015     2016     2017\n",
       "0            Argentina    642.5    554.1    637.7\n",
       "1               Brazil   1799.7   1793.1   2055.0\n",
       "2             Colombia    291.5    280.0    309.2\n",
       "3   Dominican Republic     68.2     71.7     75.0\n",
       "4              Ecuador     99.3     98.6    102.3\n",
       "5          El Salvador     26.1     26.8     28.0\n",
       "6            Guatemala     63.8     68.8     75.7\n",
       "7                Haiti      8.7      8.2      8.6\n",
       "8               Mexico   1169.6   1076.9   1149.2\n",
       "9            Nicaragua     12.7     13.2     13.7\n",
       "10              Panama     54.3     57.8     61.8\n",
       "11       United States  18120.7  18624.5  19390.6"
      ]
     },
     "execution_count": 9,
     "metadata": {},
     "output_type": "execute_result"
    }
   ],
   "source": [
    "# gdp data\n",
    "df_gdp = pd.read_csv('Data/gdp_info.csv', low_memory=False)\n",
    "df_gdp"
   ]
  },
  {
   "cell_type": "code",
   "execution_count": 10,
   "metadata": {},
   "outputs": [
    {
     "name": "stdout",
     "output_type": "stream",
     "text": [
      "<class 'pandas.core.frame.DataFrame'>\n",
      "Int64Index: 1688 entries, 0 to 1687\n",
      "Data columns (total 14 columns):\n",
      "location          1688 non-null object\n",
      "date              1688 non-null object\n",
      "zika_confirmed    1688 non-null int64\n",
      "density_per_km    1624 non-null float64\n",
      "location_type     1624 non-null object\n",
      "country           1624 non-null object\n",
      "province          1576 non-null object\n",
      "county            1353 non-null object\n",
      "city              1392 non-null object\n",
      "latitude          1624 non-null float64\n",
      "longitude         1624 non-null float64\n",
      "2015              1624 non-null float64\n",
      "2016              1624 non-null float64\n",
      "2017              1624 non-null float64\n",
      "dtypes: float64(6), int64(1), object(7)\n",
      "memory usage: 197.8+ KB\n"
     ]
    }
   ],
   "source": [
    "# merge gdp \n",
    "df = pd.merge(df, df_gdp, on='country', how='left')\n",
    "df.info()\n"
   ]
  },
  {
   "cell_type": "code",
   "execution_count": 11,
   "metadata": {},
   "outputs": [],
   "source": [
    "# mosquito data\n",
    "df_mosquito = pd.read_csv('Data/mosquito.csv', low_memory=False)\n"
   ]
  },
  {
   "cell_type": "code",
   "execution_count": 12,
   "metadata": {},
   "outputs": [
    {
     "name": "stdout",
     "output_type": "stream",
     "text": [
      "<class 'pandas.core.frame.DataFrame'>\n",
      "RangeIndex: 24019 entries, 0 to 24018\n",
      "Data columns (total 12 columns):\n",
      "vector           24019 non-null object\n",
      "occurrence_id    24019 non-null int64\n",
      "source_type      24019 non-null object\n",
      "location_type    23769 non-null object\n",
      "polygon_admin    23368 non-null object\n",
      "latitude         24019 non-null float64\n",
      "longitude        24019 non-null float64\n",
      "year             24019 non-null int64\n",
      "country          24019 non-null object\n",
      "country_id       24019 non-null object\n",
      "gaul_ad0         24019 non-null int64\n",
      "status           183 non-null object\n",
      "dtypes: float64(2), int64(3), object(7)\n",
      "memory usage: 2.2+ MB\n"
     ]
    }
   ],
   "source": [
    "df_mosquito.info()"
   ]
  },
  {
   "cell_type": "code",
   "execution_count": 13,
   "metadata": {},
   "outputs": [],
   "source": [
    "# Closest mosquito sighting\n",
    "mosquito_coords = df_mosquito[['latitude', 'longitude']].values[np.newaxis, :]\n",
    "places_coords = np.rollaxis(df[['latitude','latitude']].values[np.newaxis, :], 0, -1)\n",
    "dist_coords = ((places_coords - mosquito_coords)**2).sum(axis=-1)\n",
    "min_dist = dist_coords.min(axis=1)\n"
   ]
  },
  {
   "cell_type": "code",
   "execution_count": 14,
   "metadata": {},
   "outputs": [
    {
     "data": {
      "text/html": [
       "<div>\n",
       "<style scoped>\n",
       "    .dataframe tbody tr th:only-of-type {\n",
       "        vertical-align: middle;\n",
       "    }\n",
       "\n",
       "    .dataframe tbody tr th {\n",
       "        vertical-align: top;\n",
       "    }\n",
       "\n",
       "    .dataframe thead th {\n",
       "        text-align: right;\n",
       "    }\n",
       "</style>\n",
       "<table border=\"1\" class=\"dataframe\">\n",
       "  <thead>\n",
       "    <tr style=\"text-align: right;\">\n",
       "      <th></th>\n",
       "      <th>location</th>\n",
       "      <th>date</th>\n",
       "      <th>zika_confirmed</th>\n",
       "      <th>density_per_km</th>\n",
       "      <th>location_type</th>\n",
       "      <th>country</th>\n",
       "      <th>province</th>\n",
       "      <th>county</th>\n",
       "      <th>city</th>\n",
       "      <th>latitude</th>\n",
       "      <th>longitude</th>\n",
       "      <th>2015</th>\n",
       "      <th>2016</th>\n",
       "      <th>2017</th>\n",
       "      <th>mosquito_dist</th>\n",
       "    </tr>\n",
       "  </thead>\n",
       "  <tbody>\n",
       "    <tr>\n",
       "      <th>0</th>\n",
       "      <td>Argentina-Buenos_Aires</td>\n",
       "      <td>2016-03-19</td>\n",
       "      <td>1</td>\n",
       "      <td>12625.800781</td>\n",
       "      <td>province</td>\n",
       "      <td>Argentina</td>\n",
       "      <td>Buenos Aires</td>\n",
       "      <td>NaN</td>\n",
       "      <td>NaN</td>\n",
       "      <td>-34.603684</td>\n",
       "      <td>-58.381559</td>\n",
       "      <td>642.5</td>\n",
       "      <td>554.1</td>\n",
       "      <td>637.7</td>\n",
       "      <td>193.070960</td>\n",
       "    </tr>\n",
       "    <tr>\n",
       "      <th>1</th>\n",
       "      <td>Argentina-CABA</td>\n",
       "      <td>2016-03-19</td>\n",
       "      <td>1</td>\n",
       "      <td>12625.800781</td>\n",
       "      <td>province</td>\n",
       "      <td>Argentina</td>\n",
       "      <td>Ciudad de Buenos Aires</td>\n",
       "      <td>NaN</td>\n",
       "      <td>NaN</td>\n",
       "      <td>-34.603684</td>\n",
       "      <td>-58.381559</td>\n",
       "      <td>642.5</td>\n",
       "      <td>554.1</td>\n",
       "      <td>637.7</td>\n",
       "      <td>193.070960</td>\n",
       "    </tr>\n",
       "    <tr>\n",
       "      <th>2</th>\n",
       "      <td>Argentina-Catamarca</td>\n",
       "      <td>2016-03-19</td>\n",
       "      <td>1</td>\n",
       "      <td>460.153595</td>\n",
       "      <td>province</td>\n",
       "      <td>Argentina</td>\n",
       "      <td>Catamarca</td>\n",
       "      <td>NaN</td>\n",
       "      <td>NaN</td>\n",
       "      <td>-28.469581</td>\n",
       "      <td>-65.779544</td>\n",
       "      <td>642.5</td>\n",
       "      <td>554.1</td>\n",
       "      <td>637.7</td>\n",
       "      <td>204.293453</td>\n",
       "    </tr>\n",
       "    <tr>\n",
       "      <th>3</th>\n",
       "      <td>Argentina-Chaco</td>\n",
       "      <td>2016-03-19</td>\n",
       "      <td>1</td>\n",
       "      <td>121.331650</td>\n",
       "      <td>province</td>\n",
       "      <td>Argentina</td>\n",
       "      <td>Chaco</td>\n",
       "      <td>NaN</td>\n",
       "      <td>NaN</td>\n",
       "      <td>-27.425717</td>\n",
       "      <td>-59.024378</td>\n",
       "      <td>642.5</td>\n",
       "      <td>554.1</td>\n",
       "      <td>637.7</td>\n",
       "      <td>215.267115</td>\n",
       "    </tr>\n",
       "    <tr>\n",
       "      <th>4</th>\n",
       "      <td>Argentina-Chubut</td>\n",
       "      <td>2016-03-19</td>\n",
       "      <td>1</td>\n",
       "      <td>37.095642</td>\n",
       "      <td>province</td>\n",
       "      <td>Argentina</td>\n",
       "      <td>Chubut</td>\n",
       "      <td>NaN</td>\n",
       "      <td>NaN</td>\n",
       "      <td>-43.293425</td>\n",
       "      <td>-65.111482</td>\n",
       "      <td>642.5</td>\n",
       "      <td>554.1</td>\n",
       "      <td>637.7</td>\n",
       "      <td>205.408153</td>\n",
       "    </tr>\n",
       "  </tbody>\n",
       "</table>\n",
       "</div>"
      ],
      "text/plain": [
       "                 location        date  zika_confirmed  density_per_km  \\\n",
       "0  Argentina-Buenos_Aires  2016-03-19               1    12625.800781   \n",
       "1          Argentina-CABA  2016-03-19               1    12625.800781   \n",
       "2     Argentina-Catamarca  2016-03-19               1      460.153595   \n",
       "3         Argentina-Chaco  2016-03-19               1      121.331650   \n",
       "4        Argentina-Chubut  2016-03-19               1       37.095642   \n",
       "\n",
       "  location_type    country                province county city   latitude  \\\n",
       "0      province  Argentina            Buenos Aires    NaN  NaN -34.603684   \n",
       "1      province  Argentina  Ciudad de Buenos Aires    NaN  NaN -34.603684   \n",
       "2      province  Argentina               Catamarca    NaN  NaN -28.469581   \n",
       "3      province  Argentina                   Chaco    NaN  NaN -27.425717   \n",
       "4      province  Argentina                  Chubut    NaN  NaN -43.293425   \n",
       "\n",
       "   longitude   2015   2016   2017  mosquito_dist  \n",
       "0 -58.381559  642.5  554.1  637.7     193.070960  \n",
       "1 -58.381559  642.5  554.1  637.7     193.070960  \n",
       "2 -65.779544  642.5  554.1  637.7     204.293453  \n",
       "3 -59.024378  642.5  554.1  637.7     215.267115  \n",
       "4 -65.111482  642.5  554.1  637.7     205.408153  "
      ]
     },
     "execution_count": 14,
     "metadata": {},
     "output_type": "execute_result"
    }
   ],
   "source": [
    "# new column mosquito distance\n",
    "df['mosquito_dist'] = min_dist\n",
    "df.head()"
   ]
  },
  {
   "cell_type": "code",
   "execution_count": 15,
   "metadata": {},
   "outputs": [
    {
     "name": "stdout",
     "output_type": "stream",
     "text": [
      "<class 'pandas.core.frame.DataFrame'>\n",
      "Int64Index: 1688 entries, 0 to 1687\n",
      "Data columns (total 15 columns):\n",
      "location          1688 non-null object\n",
      "date              1688 non-null object\n",
      "zika_confirmed    1688 non-null int64\n",
      "density_per_km    1624 non-null float64\n",
      "location_type     1624 non-null object\n",
      "country           1624 non-null object\n",
      "province          1576 non-null object\n",
      "county            1353 non-null object\n",
      "city              1392 non-null object\n",
      "latitude          1624 non-null float64\n",
      "longitude         1624 non-null float64\n",
      "2015              1624 non-null float64\n",
      "2016              1624 non-null float64\n",
      "2017              1624 non-null float64\n",
      "mosquito_dist     1624 non-null float64\n",
      "dtypes: float64(7), int64(1), object(7)\n",
      "memory usage: 211.0+ KB\n"
     ]
    }
   ],
   "source": [
    "df.info(0)"
   ]
  },
  {
   "cell_type": "code",
   "execution_count": 16,
   "metadata": {},
   "outputs": [],
   "source": [
    "# weather data\n",
    "df_weather = pd.read_csv('Data/weather.csv', low_memory=False)"
   ]
  },
  {
   "cell_type": "code",
   "execution_count": 28,
   "metadata": {},
   "outputs": [
    {
     "name": "stdout",
     "output_type": "stream",
     "text": [
      "<class 'pandas.core.frame.DataFrame'>\n",
      "RangeIndex: 112644 entries, 0 to 112643\n",
      "Data columns (total 8 columns):\n",
      "date             112644 non-null object\n",
      "location         112644 non-null object\n",
      "max_temp         112644 non-null float64\n",
      "mean_temp        112644 non-null float64\n",
      "min_temp         112644 non-null float64\n",
      "dew_point        112644 non-null float64\n",
      "precipitation    112644 non-null float64\n",
      "wind             112644 non-null float64\n",
      "dtypes: float64(6), object(2)\n",
      "memory usage: 6.9+ MB\n"
     ]
    }
   ],
   "source": [
    "df_weather.info()\n"
   ]
  },
  {
   "cell_type": "code",
   "execution_count": 29,
   "metadata": {},
   "outputs": [
    {
     "name": "stdout",
     "output_type": "stream",
     "text": [
      "<class 'pandas.core.frame.DataFrame'>\n",
      "Int64Index: 1688 entries, 0 to 1687\n",
      "Data columns (total 15 columns):\n",
      "location          1688 non-null object\n",
      "date              1688 non-null object\n",
      "zika_confirmed    1688 non-null int64\n",
      "density_per_km    1624 non-null float64\n",
      "location_type     1624 non-null object\n",
      "country           1624 non-null object\n",
      "province          1576 non-null object\n",
      "county            1353 non-null object\n",
      "city              1392 non-null object\n",
      "latitude          1624 non-null float64\n",
      "longitude         1624 non-null float64\n",
      "2015              1624 non-null float64\n",
      "2016              1624 non-null float64\n",
      "2017              1624 non-null float64\n",
      "mosquito_dist     1624 non-null float64\n",
      "dtypes: float64(7), int64(1), object(7)\n",
      "memory usage: 211.0+ KB\n"
     ]
    }
   ],
   "source": [
    "df.info()"
   ]
  },
  {
   "cell_type": "code",
   "execution_count": 24,
   "metadata": {},
   "outputs": [],
   "source": [
    "# make date column the same format in both dataframes to be able to merge\n",
    "df_weather['date'] = pd.to_datetime(df_weather['date']).astype(str)"
   ]
  },
  {
   "cell_type": "code",
   "execution_count": 25,
   "metadata": {},
   "outputs": [],
   "source": [
    "df['date'] = pd.to_datetime(df['date']).astype(str)"
   ]
  },
  {
   "cell_type": "code",
   "execution_count": 30,
   "metadata": {},
   "outputs": [],
   "source": [
    "df = pd.merge(df, df_weather, on=['location','date'], how='left')"
   ]
  },
  {
   "cell_type": "code",
   "execution_count": 31,
   "metadata": {},
   "outputs": [
    {
     "name": "stdout",
     "output_type": "stream",
     "text": [
      "<class 'pandas.core.frame.DataFrame'>\n",
      "Int64Index: 1688 entries, 0 to 1687\n",
      "Data columns (total 21 columns):\n",
      "location          1688 non-null object\n",
      "date              1688 non-null object\n",
      "zika_confirmed    1688 non-null int64\n",
      "density_per_km    1624 non-null float64\n",
      "location_type     1624 non-null object\n",
      "country           1624 non-null object\n",
      "province          1576 non-null object\n",
      "county            1353 non-null object\n",
      "city              1392 non-null object\n",
      "latitude          1624 non-null float64\n",
      "longitude         1624 non-null float64\n",
      "2015              1624 non-null float64\n",
      "2016              1624 non-null float64\n",
      "2017              1624 non-null float64\n",
      "mosquito_dist     1624 non-null float64\n",
      "max_temp          1074 non-null float64\n",
      "mean_temp         1074 non-null float64\n",
      "min_temp          1074 non-null float64\n",
      "dew_point         1074 non-null float64\n",
      "precipitation     1074 non-null float64\n",
      "wind              1074 non-null float64\n",
      "dtypes: float64(13), int64(1), object(7)\n",
      "memory usage: 290.1+ KB\n"
     ]
    }
   ],
   "source": [
    "df.info()"
   ]
  },
  {
   "cell_type": "code",
   "execution_count": 32,
   "metadata": {},
   "outputs": [],
   "source": [
    "# impute missing data \n",
    "df['max_temp'] = df['max_temp'].interpolate(method='linear', limit_direction='both')\n",
    "df['mean_temp'] = df['mean_temp'].interpolate(method='linear', limit_direction='both')\n",
    "df['min_temp'] = df['min_temp'].interpolate(method='linear', limit_direction='both')\n",
    "df['dew_point'] = df['dew_point'].interpolate(method='linear', limit_direction='both')\n",
    "df['precipitation'] = df['precipitation'].interpolate(method='linear', limit_direction='both')\n",
    "df['wind'] = df['wind'].interpolate(method='linear', limit_direction='both')"
   ]
  },
  {
   "cell_type": "code",
   "execution_count": 33,
   "metadata": {},
   "outputs": [],
   "source": [
    "df['gdp'] = df['2016'] "
   ]
  },
  {
   "cell_type": "code",
   "execution_count": 35,
   "metadata": {},
   "outputs": [],
   "source": [
    "df = df.drop(['2015','2016','2017'],axis=1)  "
   ]
  },
  {
   "cell_type": "code",
   "execution_count": 36,
   "metadata": {},
   "outputs": [],
   "source": [
    "df = df.drop(['province','county','city'],axis=1)  "
   ]
  },
  {
   "cell_type": "code",
   "execution_count": 37,
   "metadata": {},
   "outputs": [
    {
     "name": "stdout",
     "output_type": "stream",
     "text": [
      "<class 'pandas.core.frame.DataFrame'>\n",
      "Int64Index: 1688 entries, 0 to 1687\n",
      "Data columns (total 16 columns):\n",
      "location          1688 non-null object\n",
      "date              1688 non-null object\n",
      "zika_confirmed    1688 non-null int64\n",
      "density_per_km    1624 non-null float64\n",
      "location_type     1624 non-null object\n",
      "country           1624 non-null object\n",
      "latitude          1624 non-null float64\n",
      "longitude         1624 non-null float64\n",
      "mosquito_dist     1624 non-null float64\n",
      "max_temp          1688 non-null float64\n",
      "mean_temp         1688 non-null float64\n",
      "min_temp          1688 non-null float64\n",
      "dew_point         1688 non-null float64\n",
      "precipitation     1688 non-null float64\n",
      "wind              1688 non-null float64\n",
      "gdp               1624 non-null float64\n",
      "dtypes: float64(11), int64(1), object(4)\n",
      "memory usage: 224.2+ KB\n"
     ]
    }
   ],
   "source": [
    "df.info()"
   ]
  },
  {
   "cell_type": "code",
   "execution_count": 38,
   "metadata": {},
   "outputs": [],
   "source": [
    "# take not null values for latitude\n",
    "df = df[df['latitude'].notnull()]"
   ]
  },
  {
   "cell_type": "code",
   "execution_count": 39,
   "metadata": {},
   "outputs": [],
   "source": [
    "# save csv for future needs\n",
    "df.to_csv('Data_merged.csv', encoding='utf-8', index=False)"
   ]
  },
  {
   "cell_type": "code",
   "execution_count": null,
   "metadata": {},
   "outputs": [],
   "source": []
  }
 ],
 "metadata": {
  "kernelspec": {
   "display_name": "Python 3",
   "language": "python",
   "name": "python3"
  },
  "language_info": {
   "codemirror_mode": {
    "name": "ipython",
    "version": 3
   },
   "file_extension": ".py",
   "mimetype": "text/x-python",
   "name": "python",
   "nbconvert_exporter": "python",
   "pygments_lexer": "ipython3",
   "version": "3.7.3"
  }
 },
 "nbformat": 4,
 "nbformat_minor": 2
}
