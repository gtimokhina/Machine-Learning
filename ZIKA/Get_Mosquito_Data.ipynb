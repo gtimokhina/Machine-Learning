{
 "cells": [
  {
   "cell_type": "code",
   "execution_count": 1,
   "metadata": {},
   "outputs": [],
   "source": [
    "import pandas as pd\n",
    "import numpy as np\n",
    "import re"
   ]
  },
  {
   "cell_type": "code",
   "execution_count": 2,
   "metadata": {},
   "outputs": [],
   "source": [
    "# load mosquito data from Dryad (https://datadryad.org/stash/dataset/doi:10.5061/dryad.47v3c)\n",
    "df = pd.read_csv('Data/aegypti_albopictus.csv')"
   ]
  },
  {
   "cell_type": "code",
   "execution_count": 7,
   "metadata": {},
   "outputs": [
    {
     "name": "stdout",
     "output_type": "stream",
     "text": [
      "<class 'pandas.core.frame.DataFrame'>\n",
      "RangeIndex: 42066 entries, 0 to 42065\n",
      "Data columns (total 12 columns):\n",
      "vector           42066 non-null object\n",
      "occurrence_id    42066 non-null int64\n",
      "source_type      42066 non-null object\n",
      "location_type    41586 non-null object\n",
      "polygon_admin    40960 non-null object\n",
      "latitude         42066 non-null float64\n",
      "longitude        42066 non-null float64\n",
      "year             40828 non-null object\n",
      "country          42066 non-null object\n",
      "country_id       42066 non-null object\n",
      "gaul_ad0         42066 non-null int64\n",
      "status           331 non-null object\n",
      "dtypes: float64(2), int64(2), object(8)\n",
      "memory usage: 3.9+ MB\n"
     ]
    }
   ],
   "source": [
    "df.info()"
   ]
  },
  {
   "cell_type": "code",
   "execution_count": 6,
   "metadata": {},
   "outputs": [],
   "source": [
    "df.columns = [x.lower() for x in df.columns]\n",
    "\n",
    "# x is longitude and y is latitude\n",
    "df.rename(columns={'x':'longitude', 'y':'latitude'}, inplace=True)"
   ]
  },
  {
   "cell_type": "code",
   "execution_count": 13,
   "metadata": {},
   "outputs": [],
   "source": [
    "# clean and format data\n",
    "mosquito = pd.concat([df.loc[df.year=='2006-2008'].assign(year=x) \n",
    "                      for x in ['2006', '2007', '2008']])\n",
    "\n",
    "mosquito = pd.concat([df.loc[df.year!='2006-2008'], mosquito])\n",
    "mosquito = mosquito.loc[mosquito.year.notnull()]\n",
    "mosquito['year'] = mosquito.year.astype(int)\n",
    "mosquito.sort_values('year',inplace=True)"
   ]
  },
  {
   "cell_type": "code",
   "execution_count": 14,
   "metadata": {},
   "outputs": [
    {
     "data": {
      "text/html": [
       "<div>\n",
       "<style scoped>\n",
       "    .dataframe tbody tr th:only-of-type {\n",
       "        vertical-align: middle;\n",
       "    }\n",
       "\n",
       "    .dataframe tbody tr th {\n",
       "        vertical-align: top;\n",
       "    }\n",
       "\n",
       "    .dataframe thead th {\n",
       "        text-align: right;\n",
       "    }\n",
       "</style>\n",
       "<table border=\"1\" class=\"dataframe\">\n",
       "  <thead>\n",
       "    <tr style=\"text-align: right;\">\n",
       "      <th></th>\n",
       "      <th>vector</th>\n",
       "      <th>occurrence_id</th>\n",
       "      <th>source_type</th>\n",
       "      <th>location_type</th>\n",
       "      <th>polygon_admin</th>\n",
       "      <th>latitude</th>\n",
       "      <th>longitude</th>\n",
       "      <th>year</th>\n",
       "      <th>country</th>\n",
       "      <th>country_id</th>\n",
       "      <th>gaul_ad0</th>\n",
       "      <th>status</th>\n",
       "    </tr>\n",
       "  </thead>\n",
       "  <tbody>\n",
       "    <tr>\n",
       "      <th>0</th>\n",
       "      <td>Aedes aegypti</td>\n",
       "      <td>1</td>\n",
       "      <td>published</td>\n",
       "      <td>point</td>\n",
       "      <td>-999</td>\n",
       "      <td>-3.22</td>\n",
       "      <td>40.07</td>\n",
       "      <td>1958</td>\n",
       "      <td>Kenya</td>\n",
       "      <td>KEN</td>\n",
       "      <td>133</td>\n",
       "      <td>NaN</td>\n",
       "    </tr>\n",
       "    <tr>\n",
       "      <th>26</th>\n",
       "      <td>Aedes aegypti</td>\n",
       "      <td>27</td>\n",
       "      <td>unpublished</td>\n",
       "      <td>polygon</td>\n",
       "      <td>2</td>\n",
       "      <td>27.18</td>\n",
       "      <td>-82.32</td>\n",
       "      <td>1960</td>\n",
       "      <td>United States of America</td>\n",
       "      <td>USA</td>\n",
       "      <td>259</td>\n",
       "      <td>NaN</td>\n",
       "    </tr>\n",
       "    <tr>\n",
       "      <th>27</th>\n",
       "      <td>Aedes aegypti</td>\n",
       "      <td>28</td>\n",
       "      <td>unpublished</td>\n",
       "      <td>polygon</td>\n",
       "      <td>2</td>\n",
       "      <td>27.18</td>\n",
       "      <td>-81.81</td>\n",
       "      <td>1960</td>\n",
       "      <td>United States of America</td>\n",
       "      <td>USA</td>\n",
       "      <td>259</td>\n",
       "      <td>NaN</td>\n",
       "    </tr>\n",
       "    <tr>\n",
       "      <th>28</th>\n",
       "      <td>Aedes aegypti</td>\n",
       "      <td>29</td>\n",
       "      <td>unpublished</td>\n",
       "      <td>polygon</td>\n",
       "      <td>2</td>\n",
       "      <td>27.34</td>\n",
       "      <td>-81.34</td>\n",
       "      <td>1960</td>\n",
       "      <td>United States of America</td>\n",
       "      <td>USA</td>\n",
       "      <td>259</td>\n",
       "      <td>NaN</td>\n",
       "    </tr>\n",
       "    <tr>\n",
       "      <th>29</th>\n",
       "      <td>Aedes aegypti</td>\n",
       "      <td>30</td>\n",
       "      <td>unpublished</td>\n",
       "      <td>polygon</td>\n",
       "      <td>2</td>\n",
       "      <td>27.38</td>\n",
       "      <td>-80.49</td>\n",
       "      <td>1960</td>\n",
       "      <td>United States of America</td>\n",
       "      <td>USA</td>\n",
       "      <td>259</td>\n",
       "      <td>NaN</td>\n",
       "    </tr>\n",
       "  </tbody>\n",
       "</table>\n",
       "</div>"
      ],
      "text/plain": [
       "           vector  occurrence_id  source_type location_type polygon_admin  \\\n",
       "0   Aedes aegypti              1    published         point          -999   \n",
       "26  Aedes aegypti             27  unpublished       polygon             2   \n",
       "27  Aedes aegypti             28  unpublished       polygon             2   \n",
       "28  Aedes aegypti             29  unpublished       polygon             2   \n",
       "29  Aedes aegypti             30  unpublished       polygon             2   \n",
       "\n",
       "    latitude  longitude  year                   country country_id  gaul_ad0  \\\n",
       "0      -3.22      40.07  1958                     Kenya        KEN       133   \n",
       "26     27.18     -82.32  1960  United States of America        USA       259   \n",
       "27     27.18     -81.81  1960  United States of America        USA       259   \n",
       "28     27.34     -81.34  1960  United States of America        USA       259   \n",
       "29     27.38     -80.49  1960  United States of America        USA       259   \n",
       "\n",
       "   status  \n",
       "0     NaN  \n",
       "26    NaN  \n",
       "27    NaN  \n",
       "28    NaN  \n",
       "29    NaN  "
      ]
     },
     "execution_count": 14,
     "metadata": {},
     "output_type": "execute_result"
    }
   ],
   "source": [
    "mosquito.head()"
   ]
  },
  {
   "cell_type": "code",
   "execution_count": 16,
   "metadata": {},
   "outputs": [],
   "source": [
    "# take data only for year > 2006\n",
    "mosquito = mosquito.loc[mosquito.year>=2006]"
   ]
  },
  {
   "cell_type": "code",
   "execution_count": 19,
   "metadata": {},
   "outputs": [
    {
     "name": "stdout",
     "output_type": "stream",
     "text": [
      "<class 'pandas.core.frame.DataFrame'>\n",
      "Int64Index: 24019 entries, 34478 to 21354\n",
      "Data columns (total 12 columns):\n",
      "vector           24019 non-null object\n",
      "occurrence_id    24019 non-null int64\n",
      "source_type      24019 non-null object\n",
      "location_type    23769 non-null object\n",
      "polygon_admin    23368 non-null object\n",
      "latitude         24019 non-null float64\n",
      "longitude        24019 non-null float64\n",
      "year             24019 non-null int64\n",
      "country          24019 non-null object\n",
      "country_id       24019 non-null object\n",
      "gaul_ad0         24019 non-null int64\n",
      "status           183 non-null object\n",
      "dtypes: float64(2), int64(3), object(7)\n",
      "memory usage: 2.4+ MB\n"
     ]
    }
   ],
   "source": [
    "mosquito.info()"
   ]
  },
  {
   "cell_type": "code",
   "execution_count": 22,
   "metadata": {},
   "outputs": [],
   "source": [
    "# save csv for future needs\n",
    "mosquito.to_csv('mosquito.csv', encoding='utf-8', index=False)"
   ]
  },
  {
   "cell_type": "code",
   "execution_count": null,
   "metadata": {},
   "outputs": [],
   "source": []
  }
 ],
 "metadata": {
  "kernelspec": {
   "display_name": "Python 3",
   "language": "python",
   "name": "python3"
  },
  "language_info": {
   "codemirror_mode": {
    "name": "ipython",
    "version": 3
   },
   "file_extension": ".py",
   "mimetype": "text/x-python",
   "name": "python",
   "nbconvert_exporter": "python",
   "pygments_lexer": "ipython3",
   "version": "3.7.3"
  }
 },
 "nbformat": 4,
 "nbformat_minor": 2
}
